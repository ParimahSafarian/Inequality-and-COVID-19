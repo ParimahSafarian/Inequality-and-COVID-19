{
 "cells": [
  {
   "cell_type": "markdown",
   "id": "ead9e505",
   "metadata": {},
   "source": [
    "## Is it correct to fit a simple SIR to our model's equations?"
   ]
  },
  {
   "cell_type": "code",
   "execution_count": 1,
   "id": "3834c14e",
   "metadata": {},
   "outputs": [],
   "source": [
    "import numpy as np\n",
    "from scipy.integrate import odeint\n",
    "import matplotlib.pyplot as plt\n",
    "from scipy.optimize import curve_fit\n",
    "import xlrd\n",
    "from scipy import stats\n",
    "import matplotlib.cm as cm\n",
    "import matplotlib.colors as mcolors"
   ]
  },
  {
   "cell_type": "markdown",
   "id": "c67beacd",
   "metadata": {},
   "source": [
    "Simple SIR model:"
   ]
  },
  {
   "cell_type": "code",
   "execution_count": 6,
   "id": "4e894988",
   "metadata": {},
   "outputs": [
    {
     "data": {
      "text/plain": [
       "<matplotlib.legend.Legend at 0x1b25ce939a0>"
      ]
     },
     "execution_count": 6,
     "metadata": {},
     "output_type": "execute_result"
    },
    {
     "data": {
      "image/png": "[encoded data removed]",
      "text/plain": [
       "<Figure size 432x288 with 1 Axes>"
      ]
     },
     "metadata": {
      "needs_background": "light"
     },
     "output_type": "display_data"
    }
   ],
   "source": [
    "#Initial conditions and t range\n",
    "t = np.arange(0,40, 0.3)\n",
    "k0=[1 - 0.01, 0.01, 0] #normalized population\n",
    "\n",
    "#Differential equation\n",
    "eta = 1.5\n",
    "gamma = 0.2\n",
    "def f(k,t):\n",
    "    S = k[0]\n",
    "    I = k[1]\n",
    "    R = k[2]\n",
    "    dSdt = -1*eta*I*S\n",
    "    dIdt = eta*I*S - gamma*I\n",
    "    dRdt = gamma*I\n",
    "    return [dSdt, dIdt, dRdt]\n",
    "\n",
    "\n",
    "#Solve\n",
    "k_s = odeint(f,k0,t)\n",
    "\n",
    "#Plotting\n",
    "plt.plot(t,k_s[:,0],'r--', linewidth=2.0)\n",
    "plt.plot(t,k_s[:,1],'b-', linewidth=2.0)\n",
    "plt.plot(t,k_s[:,2],'g-', linewidth=2.0)\n",
    "\n",
    "#print(k[20, 0])\n",
    "plt.title(\"SIR Model\")    #'$\\u03B2 =$ {}, $\\gamma =$ {}'.format(eta, gamma))\n",
    "plt.xlabel(\"$t$\")\n",
    "plt.ylabel(\"$[S, I, R]$\")\n",
    "plt.legend([\"$S$\",\"$I$\", \"$R$\"])\n",
    "\n",
    "# plt.savefig('sir.png', dpi = 1200)"
   ]
  },
  {
   "cell_type": "markdown",
   "id": "7f8b6fb7",
   "metadata": {},
   "source": [
    "Divied population with varios $\\beta$ differentiation:"
   ]
  },
  {
   "cell_type": "code",
   "execution_count": 7,
   "id": "4b085251",
   "metadata": {},
   "outputs": [],
   "source": [
    "gamma = 1/14\n",
    "delta = 1\n",
    "betam = 7/14\n",
    "\n",
    "def equations(k,t):\n",
    "    betat, betal = betam * (1 - 0.5 * delta), betam * (1 + 0.5 * delta) #symmetry\n",
    "\n",
    "    ST, IT, RT = k[0], k[1], k[2]\n",
    "    SM, IM, RM = k[3], k[4], k[5]\n",
    "    SL, IL, RL = k[6], k[7], k[8]\n",
    "    I = IT + IM + IL\n",
    "    S = ST + SM + SL\n",
    "    #top\n",
    "    dSTdt = -1*betat*I*ST\n",
    "    dITdt = betat*I*ST - gamma*IT\n",
    "    dRTdt = gamma*IT\n",
    "    #medium\n",
    "    dSMdt = -1*betam*I*SM\n",
    "    dIMdt = betam*I*SM - gamma*IM\n",
    "    dRMdt = gamma*IM\n",
    "    #low\n",
    "    dSLdt = -1*betal*I*SL\n",
    "    dILdt = betal*I*SL - gamma*IL\n",
    "    dRLdt = gamma*IL\n",
    "    \n",
    "    return [dSTdt, dITdt, dRTdt, dSMdt, dIMdt, dRMdt, dSLdt, dILdt, dRLdt]"
   ]
  },
  {
   "cell_type": "code",
   "execution_count": 8,
   "id": "41561422",
   "metadata": {},
   "outputs": [],
   "source": [
    "#Initial conditions and t range\n",
    "t  =  np.arange(0,55, 0.001)\n",
    "\n",
    "k0 = [0.33, 0.01, 0, 0.33, 0, 0, 0.33, 0, 0]\n",
    "\n",
    "#Solve\n",
    "k = odeint(equations,k0,t)"
   ]
  },
  {
   "cell_type": "code",
   "execution_count": 74,
   "id": "1d7a78b7",
   "metadata": {},
   "outputs": [],
   "source": [
    "def find_range(cases):\n",
    "    begin = 0 \n",
    "    end = np.size(cases)-1\n",
    "    for i in range(1, end):\n",
    "        if cases[i] != 0 and begin == 0:\n",
    "            begin = i\n",
    "        if begin != 0:\n",
    "            if i <= 3: shift = 1\n",
    "            else: shift = i - 3\n",
    "\n",
    "            if cases[i] < np.average(cases[shift:i]):\n",
    "                end = i\n",
    "                break\n",
    "    end = int(end - end/2)\n",
    "    return begin, end"
   ]
  },
  {
   "cell_type": "code",
   "execution_count": 75,
   "id": "c774ae42",
   "metadata": {},
   "outputs": [
    {
     "name": "stderr",
     "output_type": "stream",
     "text": [
      "C:\\Users\\ASUS\\anaconda3\\lib\\site-packages\\numpy\\lib\\function_base.py:380: RuntimeWarning: Mean of empty slice.\n",
      "  avg = a.mean(axis)\n",
      "C:\\Users\\ASUS\\anaconda3\\lib\\site-packages\\numpy\\core\\_methods.py:188: RuntimeWarning: invalid value encountered in double_scalars\n",
      "  ret = ret.dtype.type(ret / rcount)\n"
     ]
    },
    {
     "data": {
      "text/plain": [
       "(1, 9267)"
      ]
     },
     "execution_count": 75,
     "metadata": {},
     "output_type": "execute_result"
    }
   ],
   "source": [
    "find_range(k[:, 1])"
   ]
  },
  {
   "cell_type": "code",
   "execution_count": 76,
   "id": "daae5cf6",
   "metadata": {},
   "outputs": [
    {
     "data": {
      "text/plain": [
       "55000"
      ]
     },
     "execution_count": 76,
     "metadata": {},
     "output_type": "execute_result"
    }
   ],
   "source": [
    "np.size(k[:, 1])"
   ]
  },
  {
   "cell_type": "code",
   "execution_count": 77,
   "id": "fdf15dae",
   "metadata": {},
   "outputs": [],
   "source": [
    "def fit_equation(cases): \n",
    "    begin, end = find_range(cases)\n",
    "    betaSgamma = np.polyfit(t[begin:end], np.log(list(cases[begin:end])), 1)[0]\n",
    "    return betaSgamma"
   ]
  },
  {
   "cell_type": "code",
   "execution_count": 78,
   "id": "f7eda602",
   "metadata": {},
   "outputs": [
    {
     "data": {
      "text/plain": [
       "0.2089694111351686"
      ]
     },
     "execution_count": 78,
     "metadata": {},
     "output_type": "execute_result"
    }
   ],
   "source": [
    "begin, end = find_range(k[:, 1])\n",
    "np.polyfit(t[begin:end], np.log(list(k[begin:end, 1])), 1)[0]"
   ]
  },
  {
   "cell_type": "code",
   "execution_count": 79,
   "id": "9e8480f7",
   "metadata": {},
   "outputs": [
    {
     "data": {
      "text/plain": [
       "0.2089694111351686"
      ]
     },
     "execution_count": 79,
     "metadata": {},
     "output_type": "execute_result"
    }
   ],
   "source": [
    "fit_equation(k[:, 1])"
   ]
  },
  {
   "cell_type": "code",
   "execution_count": 80,
   "id": "4b94aa3d",
   "metadata": {},
   "outputs": [],
   "source": [
    "def find_beta(cases):\n",
    "    population = 1\n",
    "    return (fit_equation(cases) + gamma)/population"
   ]
  },
  {
   "cell_type": "code",
   "execution_count": 81,
   "id": "f1ba95f9",
   "metadata": {},
   "outputs": [
    {
     "data": {
      "text/plain": [
       "0.28039798256374004"
      ]
     },
     "execution_count": 81,
     "metadata": {},
     "output_type": "execute_result"
    }
   ],
   "source": [
    "find_beta(k[:, 1])"
   ]
  },
  {
   "cell_type": "code",
   "execution_count": 82,
   "id": "6fe6de99",
   "metadata": {},
   "outputs": [],
   "source": [
    "eta = find_beta(k[:, 1])\n",
    "gamma = 1/14\n",
    "k0 = [1-0.01, 0.01, 0]\n",
    "k_s = odeint(f,k0,t)"
   ]
  },
  {
   "cell_type": "code",
   "execution_count": 85,
   "id": "badb1e36",
   "metadata": {},
   "outputs": [
    {
     "data": {
      "text/plain": [
       "<matplotlib.legend.Legend at 0x1b260bc9430>"
      ]
     },
     "execution_count": 85,
     "metadata": {},
     "output_type": "execute_result"
    },
    {
     "data": {
      "image/png": "[encoded data removed]",
      "text/plain": [
       "<Figure size 432x288 with 1 Axes>"
      ]
     },
     "metadata": {
      "needs_background": "light"
     },
     "output_type": "display_data"
    }
   ],
   "source": [
    "plt.plot(t, k[:, 1]+k[:, 4]+k[:, 7], label = '3 classes model')\n",
    "plt.plot(t, k_s[:, 1], label = 'fit')\n",
    "\n",
    "plt.xlabel('t')\n",
    "plt.ylabel('I')\n",
    "plt.legend()"
   ]
  },
  {
   "cell_type": "code",
   "execution_count": null,
   "id": "ca6af158",
   "metadata": {},
   "outputs": [],
   "source": []
  }
 ],
 "metadata": {
  "kernelspec": {
   "display_name": "Python 3",
   "language": "python",
   "name": "python3"
  },
  "language_info": {
   "codemirror_mode": {
    "name": "ipython",
    "version": 3
   },
   "file_extension": ".py",
   "mimetype": "text/x-python",
   "name": "python",
   "nbconvert_exporter": "python",
   "pygments_lexer": "ipython3",
   "version": "3.8.8"
  }
 },
 "nbformat": 4,
 "nbformat_minor": 5
}
